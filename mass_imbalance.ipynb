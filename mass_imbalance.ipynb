{
 "cells": [
  {
   "cell_type": "markdown",
   "metadata": {},
   "source": [
    "# Pitchwinkelbestimmung"
   ]
  },
  {
   "cell_type": "markdown",
   "metadata": {},
   "source": [
    "Bei der Suche nach geeigneten Indikatoren für einen Blattlagerschaden (s. entsprechendes jupyter-Notebook etc.) entstand die Idee, Veränderungen im Pitchwinkel als Indikator zu verwenden. Dazu muss der Pitchwinkel bestimmt werden. "
   ]
  },
  {
   "cell_type": "markdown",
   "metadata": {},
   "source": [
    "## 1 Theorie"
   ]
  },
  {
   "cell_type": "markdown",
   "metadata": {},
   "source": [
    "### 1.1 Herleitung"
   ]
  },
  {
   "cell_type": "markdown",
   "metadata": {},
   "source": [
    "Wie üblich wird der Ortsvektor im (inertialen) Bezugssystem mit $\\bf r$ und im körperfesten (bewegten) Bezugssystem mit $\\bf rä'$ bezeichnet, entsprechend für alle anderen Vektoren. Ansonsten sind, um die Ableitungen und Ergebnisse mit bereits durchgeführten Berechnungen vergleichen zu können, die meisten Bezeichnungen, die Bezugssysteme usw. angelehnt an [Silas Klug].\n",
    "Die $z$-Achse sei parallel zum Turm entgegen der Gravitation gerichtet. Die $x$-Achse sei in der Ebene, die von der $z$-Achse und der Achse der Hauptwelle aufgespannt wird. Die $y$-Achse ist entsprechend die dritte Achse senkrecht auf den beiden.\n",
    "\n",
    "Im körperfesten Bezugssystem ist dann die $x'$-Achse in edge-Richtung, die $y'$-Achse in flap-Richtung und die $z'$-Achse entspricht der Blattlängsachse."
   ]
  },
  {
   "cell_type": "markdown",
   "metadata": {},
   "source": [
    "Für die Transformation vom Laborsystem ins bewegte (körperfeste) Koordinatensystem   ins  werden nacheinander folgende Transformationen vorgenommen:\n",
    "\n",
    "* $D(\\alpha)$: Kippen der Hauptdrehachse um den Tiltwinkel $\\alpha$\n",
    "* $D(\\Phi)$: Rotation um den aktuellen Drehwinkel $\\Phi=\\Omega t + \\Phi_0$\n",
    "* $D(\\gamma)$: Biegung des Rotorblatts um den Biegewinkel $\\gamma$ (in [Silas Klug] bezeichnet mit $\\phi$)\n",
    "* $D(\\varphi)$: Drehung um den Pitchwinkel $\\varphi$ (in [Silas KLug] bezeichnet mit $\\beta$] \n",
    "* $D(\\delta)$: Verkippung des Sensors um den Winkel $\\delta$ um eine gewisse Drehachse $\\bf n_{\\delta}$"
   ]
  },
  {
   "cell_type": "markdown",
   "metadata": {},
   "source": [
    "D.h. es ist unter der Annahme konstanter Winkelgeschwindigkeit\n",
    "\n",
    "$$\n",
    "\\begin{align*}\n",
    "{\\bf r} &= D(\\alpha) D(\\Phi) D(\\gamma) D(\\varphi) \\left[D(\\delta) {\\bf r'}+{\\bf R} \\right] \\\\\n",
    "{\\bf \\dot{r}} &= D(\\alpha) D'(\\Phi) \\dot{\\Phi} D(\\gamma) D(\\varphi) \\left[D(\\delta){\\bf r'}+{\\bf R} \\right] + D(\\alpha) D(\\Phi) D(\\gamma) D(\\varphi) D(\\delta) \\dot{r}'\\\\\n",
    "{\\bf \\ddot{r}} &= D(\\alpha) D''(\\Phi) \\dot{\\Phi}^2 D(\\gamma) D(\\varphi) \\left[D(\\delta) {\\bf r'}+{\\bf R} \\right] + 2 D(\\alpha) D'(\\Phi) \\dot{\\Phi} D(\\gamma) D(\\varphi) D(\\delta) {\\bf \\dot{r}'} + D(\\alpha) D(\\Phi) D(\\gamma) D(\\varphi) \\ddot{r}'.\n",
    "\\end{align*}\n",
    "$$\n",
    "\n",
    "Umgestellt nach der vom Sensor gemessenen Beschleunigung (inklusive Verkippung) und unter Verwendung von $D^{-1}(\\Xi)=D(-\\Xi)$ und $\\Omega:=\\dot{\\Phi}$ sowie unter der Annahme $r' \\approx 0$ und $\\dot{r}' \\approx 0$ ergibt sich:\n",
    "\n",
    "$$\n",
    "\\begin{align*}\n",
    "D(\\delta) a' = D(-\\varphi)D(-\\gamma)D(-\\Phi)D(-\\alpha){\\bf g} - D(-\\varphi)D(-\\gamma)D(-\\Phi)D''(\\Phi)D(\\gamma) D(\\varphi){\\bf R}\\Omega^2\n",
    "\\end{align*}\n",
    "$$"
   ]
  },
  {
   "cell_type": "markdown",
   "metadata": {},
   "source": [
    "Für die Drehmatrizen gilt:\n",
    "$$\n",
    "\\begin{align*}\n",
    "D(\\alpha)&=\n",
    "\\begin{pmatrix}\n",
    "\\cos \\alpha & 0 & \\sin \\alpha \\\\\n",
    "0 & 1 & 0 \\\\\n",
    "-\\sin \\alpha & 0 & \\cos \\alpha\n",
    "\\end{pmatrix}\n",
    "\\\\\n",
    "\\\\\n",
    "D(\\Phi)&=\n",
    "\\begin{pmatrix}\n",
    "1 & 0 & 0 \\\\\n",
    "0 & \\cos \\Phi & \\sin \\Phi \\\\\n",
    "0 & -\\sin \\Phi & \\cos \\Phi \\\\\n",
    "\\end{pmatrix}\n",
    ",\\qquad\n",
    "D''(\\Phi)=\n",
    "\\begin{pmatrix}\n",
    "0 & 0 & 0 \\\\\n",
    "0 & -\\cos \\Phi & -\\sin \\Phi \\\\\n",
    "0 & \\sin \\Phi & -\\cos \\Phi \\\\\n",
    "\\end{pmatrix}\n",
    "\\\\\n",
    "\\\\\n",
    "D(\\gamma)&=\n",
    "\\begin{pmatrix}\n",
    "\\cos \\gamma & 0 & \\sin \\gamma \\\\\n",
    "0 & 1 & 0 \\\\\n",
    "-\\sin \\gamma & 0 & \\cos \\gamma\n",
    "\\end{pmatrix}\n",
    ", \\qquad\n",
    "D(\\varphi)=\n",
    "\\begin{pmatrix}\n",
    "\\cos \\varphi & \\sin \\varphi & 0\\\\\n",
    "-\\sin \\varphi & \\cos \\varphi & 0\\\\\n",
    "0 & 0 & 1\n",
    "\\end{pmatrix}\n",
    "\\end{align*}$$"
   ]
  },
  {
   "cell_type": "markdown",
   "metadata": {},
   "source": [
    "Zur Vereinfachung der Formeln werden im folgenden in den Drehmatrizen und den entsprechenden Vektoren (ausschließlich für die Herleitungsschritte) die Ersetzungen\n",
    "$$\\begin{equation*}\n",
    "\\alpha := \\sin \\alpha \\qquad \\text{und} \\qquad \\overline{\\alpha} := \\cos \\alpha, \n",
    "\\end{equation*}$$\n",
    "entsprechend für alle anderen Drehwinkel, vorgenommen."
   ]
  },
  {
   "cell_type": "markdown",
   "metadata": {},
   "source": [
    "Bei Anwendung auf \n",
    "${\\bf \\ddot{r}}={\\bf g} = (0,0,-g)^T$ ergeben sich folgende Zwischenschritte:\n",
    "$$\n",
    "\\begin{align*}\n",
    "D(-\\alpha) {\\bf g} &= g\\begin{pmatrix}\n",
    "\\alpha \\\\\n",
    "0 \\\\\n",
    "-\\overline{\\alpha}\n",
    "\\end{pmatrix}\\\\\n",
    "\\\\\n",
    "D(-\\Phi)D(-\\alpha){\\bf g} &= g \\begin{pmatrix}\n",
    "\\alpha \\\\\n",
    "\\Phi \\overline{\\alpha} \\\\\n",
    "-\\overline{\\Phi} \\overline{\\alpha}\n",
    "\\end{pmatrix} \\\\\n",
    "\\\\\n",
    "D(-\\gamma)D(-\\Phi)D(-\\alpha){\\bf g} &= g \\begin{pmatrix}\n",
    "\\overline{\\gamma}\\alpha+\\gamma \\overline{\\Phi}\\overline{\\alpha} \\\\\n",
    "\\Phi \\overline{\\alpha} \\\\\n",
    "\\gamma \\alpha - \\overline{\\gamma} \\overline{\\Phi} \\overline{\\alpha}\n",
    "\\end{pmatrix} \\\\\n",
    "\\\\\n",
    "D(-\\varphi)D(-\\gamma)D(-\\Phi)D(-\\alpha){\\bf g} &= g \\begin{pmatrix}\n",
    "\\overline{\\varphi} \\overline{\\gamma}\\alpha+ \\overline{\\varphi} \\gamma \\overline{\\Phi}\\overline{\\alpha} - \\varphi \\Phi \\overline{\\alpha} \\\\\n",
    "\\varphi \\overline{\\gamma} \\alpha + \\varphi \\gamma \\overline{\\Phi} \\overline{\\alpha} + \\overline{\\varphi} \\Phi \\overline{\\alpha} \\\\\n",
    "\\gamma \\alpha - \\overline{\\gamma} \\overline{\\Phi} \\overline{\\alpha}\n",
    "\\end{pmatrix}\n",
    "\\end{align*}\n",
    "$$"
   ]
  },
  {
   "cell_type": "markdown",
   "metadata": {},
   "source": [
    "und bei Anwendung auf ${\\bf R}= (0,0,R)^T$:\n",
    "$$\n",
    "\\begin{align*}\n",
    "D(\\varphi){\\bf R} &= R \\begin{pmatrix}\n",
    "0 \\\\\n",
    "0 \\\\\n",
    "1\n",
    "\\end{pmatrix} \\\\\n",
    "D(\\gamma)D(\\varphi){\\bf R} &= R \\begin{pmatrix}\n",
    "\\gamma \\\\\n",
    "0 \\\\\n",
    "\\bar{\\gamma}\n",
    "\\end{pmatrix} \\\\\n",
    "D''(\\Phi)D(\\gamma)D(\\varphi){\\bf R} &= R \\begin{pmatrix}\n",
    "0 \\\\\n",
    "-\\Phi \\overline{\\gamma} \\\\\n",
    "-\\bar{\\Phi} \\overline{\\gamma}\n",
    "\\end{pmatrix} \\\\\n",
    "\\\\\n",
    "D(-\\Phi) D''(\\Phi)D(\\gamma)D(\\varphi){\\bf R} &= R \\begin{pmatrix}\n",
    "0 \\\\\n",
    "0 \\\\\n",
    "-\\overline{\\gamma}\n",
    "\\end{pmatrix} \\\\\n",
    "\\\\\n",
    "D(-\\gamma)D(-\\Phi)D''(\\Phi)D(\\gamma)D(\\varphi){\\bf R} &= R \\begin{pmatrix}\n",
    "\\gamma \\overline{\\gamma} \\\\\n",
    "0 \\\\\n",
    "-\\overline{\\gamma}^2\n",
    "\\end{pmatrix} \\\\\n",
    "\\\\\n",
    "D(-\\varphi)D(-\\gamma)D(-\\Phi)D''(\\Phi)D(\\gamma)D(\\varphi){\\bf R} &= R \\begin{pmatrix}\n",
    "\\overline{\\varphi} \\gamma \\overline{\\gamma} \\\\\n",
    "\\varphi \\gamma \\overline{\\gamma} \\\\\n",
    "-\\overline{\\gamma}^2\n",
    "\\end{pmatrix}\n",
    "\\end{align*}\n",
    "$$"
   ]
  },
  {
   "cell_type": "markdown",
   "metadata": {},
   "source": [
    "Damit folgt also für den ${\\bf g}$-Anteil\n",
    "\n",
    "$$\n",
    "\\begin{align*}\n",
    "\\frac{a_{flap}}{g} &= \\cos \\varphi \\cos \\gamma \\sin \\alpha + \\cos \\varphi \\sin \\gamma \\cos \\alpha \\cos (\\Omega t+\\Phi_0) - \\sin \\varphi \\cos \\alpha \\sin (\\Omega t + \\Phi_0) \\\\\n",
    "\\frac{a_{edge}}{g} &= \\sin \\varphi \\cos \\gamma \\sin \\alpha + \\sin \\varphi \\sin \\gamma \\cos \\alpha \\cos (\\Omega t + \\Phi_0) - \\cos \\varphi \\cos \\alpha \\sin(\\Omega t + \\Phi_0) \\\\\n",
    "\\frac{a_z}{g} &= \\sin \\gamma \\sin \\alpha - \\cos \\gamma \\cos \\alpha \\cos(\\Omega t + \\Phi_0)\n",
    "\\end{align*}\n",
    "$$"
   ]
  },
  {
   "cell_type": "markdown",
   "metadata": {},
   "source": [
    "und für den ${\\bf R}$-Anteil\n",
    "\n",
    "$$\n",
    "\\begin{align*}\n",
    "\\frac{a_{flap}}{g} &= \\frac{R \\Omega^2}{g}\\cos \\varphi \\sin \\gamma \\cos \\gamma \\\\\n",
    "\\frac{a_{edge}}{g} &= \\frac{R \\Omega^2}{g}\\sin \\varphi \\sin \\gamma \\cos \\gamma \\\\\n",
    "\\frac{a_z}{g} &= -\\frac{R \\Omega^2}{g}\\cos^2 \\gamma\n",
    "\\end{align*}\n",
    "$$"
   ]
  },
  {
   "cell_type": "markdown",
   "metadata": {},
   "source": [
    "und kombiniert\n",
    "\n",
    "\n",
    "$$\n",
    "\\begin{align}\n",
    "\\frac{a_{flap}}{g} &= \\left(\\cos \\varphi \\cos \\gamma \\sin \\alpha + \\frac{R \\Omega^2}{g} \\cos \\varphi \\sin \\gamma \\cos \\gamma \\right) + \\cos \\varphi \\sin \\gamma \\cos \\alpha \\cos (\\Omega t+\\Phi_0) - \\sin \\varphi \\cos \\alpha \\sin (\\Omega t + \\Phi_0) \\\\\n",
    "\\frac{a_{edge}}{g} &= \\left(\\sin \\varphi \\cos \\gamma \\sin \\alpha + \\frac{R \\Omega^2}{g} \\sin \\varphi \\sin \\gamma \\cos \\gamma \\right) + \\sin \\varphi \\sin \\gamma \\cos \\alpha \\cos (\\Omega t + \\Phi_0) - \\cos \\varphi \\cos \\alpha \\sin(\\Omega t + \\Phi_0) \\\\\n",
    "\\frac{a_z}{g} &= \\left(\\sin \\gamma \\sin \\alpha - \\frac{R \\Omega^2}{g} \\cos^2 \\gamma \\right) - \\cos \\gamma \\cos \\alpha \\cos(\\Omega t + \\Phi_0)\n",
    "\\end{align}\n",
    "$$"
   ]
  },
  {
   "cell_type": "markdown",
   "metadata": {},
   "source": [
    "Mittels linearer Regression lassen sich die einzelnen Koeffizienten bestimmen. Mit den Ersetzungen"
   ]
  },
  {
   "cell_type": "markdown",
   "metadata": {},
   "source": [
    "$$\n",
    "\\begin{align*}\n",
    "b_0^e &= \\sin \\varphi \\cos \\gamma \\sin \\alpha + \\frac{R \\Omega^2}{g} \\sin \\varphi \\sin \\gamma \\cos \\gamma  \\qquad & \\qquad b_0^f &= \\cos \\varphi \\cos \\gamma \\sin \\alpha + \\frac{R \\Omega^2}{g} \\cos \\varphi \\sin \\gamma \\cos \\gamma \\\\\n",
    "b_1^e &= \\sin \\varphi \\sin \\gamma \\cos \\alpha \\qquad & \\qquad b_1^f &= \\cos \\varphi \\sin \\gamma \\cos \\alpha \\\\\n",
    "b_2^e &= - \\cos \\varphi \\cos \\alpha \\qquad & \\qquad b_2^f &= - \\sin \\varphi \\cos \\alpha\n",
    "\\end{align*}\n",
    "$$"
   ]
  },
  {
   "cell_type": "markdown",
   "metadata": {},
   "source": [
    "erhält man das Modell"
   ]
  },
  {
   "cell_type": "markdown",
   "metadata": {},
   "source": [
    "$$\n",
    "\\begin{align*}\n",
    "\\frac{a_{edge}}{g} &= b_0^e + b_1^e \\cos (\\Omega t + \\Phi_0) + b_2^e \\sin(\\Omega t + \\Phi_0) \\\\\n",
    "&\\\\\n",
    "\\frac{a_{flap}}{g} &= b_0^f + b_1^f \\cos (\\Omega t+\\Phi_0) + b_2^f \\sin (\\Omega t + \\Phi_0)\n",
    "\\end{align*}\n",
    "$$"
   ]
  },
  {
   "cell_type": "markdown",
   "metadata": {},
   "source": [
    "Die einzelnen Parameter lassen sich damit folgendermassen bestimmen:\n",
    "    \n",
    "$$\n",
    "\\begin{align*}\n",
    "\\varphi &= \\arctan \\left(\\frac{b_1^e}{b_1^f} \\right)= \\arctan \\left(\\frac{b_2^f}{b_2^e} \\right) \\\\\n",
    "\\alpha &= \\arccos \\left[\\left(b_2^e\\right)^2 + \\left(b_2^f\\right)^2\\right]^{\\frac{1}{2}} = \\arccos \\frac{b_2^e}{\\cos \\varphi} = \\arccos \\frac{b_2^f}{\\sin \\varphi} \\\\\n",
    "\\gamma &= -\\arcsin \\frac{b_1^e}{b_2^f} = -\\arcsin \\frac{b_1^f}{b_2^e}\n",
    "\\end{align*}\n",
    "$$"
   ]
  },
  {
   "cell_type": "markdown",
   "metadata": {},
   "source": [
    "Aus den obigen Gleichungen folgt weiterhin (als \"Prüfstein\" für die Ergebnisse der Regression):\n",
    "\n",
    "$$\n",
    "\\begin{align*}\n",
    "|b_i^e| \\le 1, |b_i^f| \\le 1 \\quad &\\text{für} \\qquad i \\in \\{0,1,2\\}\n",
    "\\end{align*}\n",
    "$$"
   ]
  },
  {
   "cell_type": "markdown",
   "metadata": {},
   "source": [
    "### 1.2 Grenzfälle"
   ]
  },
  {
   "cell_type": "markdown",
   "metadata": {},
   "source": [
    "Die Plausibilität der abgeleiteten Gleichungen soll anhand verschiedener Grenzfälle untersucht werden:\n",
    "    \n",
    "* $\\alpha=\\frac{\\Pi}{2}$: bei diesem Tiltwinkel ist die Rotorachse vertikal ausgerichtet. Die Sensoren in edge- und flap-Richtung messen immer die um Biegewinkel $\\gamma$ und Pitchwinkel $\\varphi$ gedrehte Erdbeschleunigung, unabhängig von der aktuellen Rotorposition. Dies spiegelt sich in den obigen Gleichungen wider, indem die drehwinkelabhängigen Terme verschwinden und nur konstante Anteile für alle drei Beschleunigungsrichtungen übrigbleiben."
   ]
  },
  {
   "cell_type": "markdown",
   "metadata": {},
   "source": [
    "### 1.3 Vereinfachungen"
   ]
  },
  {
   "cell_type": "markdown",
   "metadata": {},
   "source": [
    "TODO 2021-1-28: Uebergang zu Fourierkoeffizienten theoretisch machen, dann daraus richtige Beziehung ableiten und dann auf Daten anwenden. Anwendung auf Zeitreihen-Einzelwerte und Tiefpassfilter weglassen!"
   ]
  },
  {
   "cell_type": "markdown",
   "metadata": {},
   "source": [
    "Bei Vernachlässigung des Biegewinkels ($\\gamma \\approx 0$) und unter Berücksichtigung, dass die Sensoren keinen Konstantanteil messen, folgt näherungsweise:\n",
    "$$tan(\\varphi) \\approx \\frac{a_t^f}{a_t^e} \\quad \\text{bzw.} \\quad \\varphi \\approx arctan(\\frac{a_t^f}{a_t^e}). \\qquad (1)$$\n",
    "Bei Anwendung direkt auf die einzelnen Elemente der Zeitreihe ist dieser Ansatz allerdings unbrauchbar. Besonders bei kleinen Werten von $a_t^e$ spielen die Einflüsse der verschiedenen Blattschwingungen etc. eine große Rolle, so dass sich unrealistische Werte ergeben."
   ]
  },
  {
   "cell_type": "markdown",
   "metadata": {},
   "source": [
    "[HIER ENTSPRECHENDE BILDER HIN]"
   ]
  },
  {
   "cell_type": "markdown",
   "metadata": {},
   "source": [
    "Diese Schwierigkeiten lassen sich beheben, indem man zu den Fouriertransformierten übergeht oder indem man einen geeigneten Tiefpassfilter anwendet."
   ]
  },
  {
   "cell_type": "markdown",
   "metadata": {},
   "source": [
    "## 2 Tests an Beispielzeitreihen"
   ]
  },
  {
   "cell_type": "code",
   "execution_count": null,
   "metadata": {},
   "outputs": [],
   "source": [
    "%%javascript\n",
    "IPython.OutputArea.prototype._should_scroll = function(lines) {\n",
    "    return false;\n",
    "}"
   ]
  },
  {
   "cell_type": "code",
   "execution_count": null,
   "metadata": {},
   "outputs": [],
   "source": [
    "from ipywidgets import widgets\n",
    "from IPython.display import Image\n",
    "from IPython.display import display, HTML"
   ]
  },
  {
   "cell_type": "code",
   "execution_count": null,
   "metadata": {},
   "outputs": [],
   "source": [
    "%matplotlib notebook\n",
    "\n",
    "from os import listdir\n",
    "import sys\n",
    "import pandas as pd\n",
    "import numpy as np\n",
    "import matplotlib.pyplot as plt\n",
    "from collections import Counter\n",
    "from datetime import datetime as dt\n",
    "import statsmodels.api as sm\n",
    "import seaborn as sns\n",
    "\n",
    "sys.path.append(r'M:\\03-Projekte\\Eis-Algorithmus-Eispeakeinstellung\\500_Arbeitsunterlagen\\Transfer_CK\\Repositories\\python\\my_functions')        # path to modules  \n",
    "from data.kinematics import calc_pitch_bending, calc_pitch2, calc_pitch_period, raw2pitch, get_raw_data, calc_pitch_diff, get_ef\n",
    "from data.kinematics import calc_pitch_df, get_data_from_dbs30, digits2g, digits2g_df#, digits2si\n",
    "from data.kinematics import butter_lowpass_filter\n",
    "from data import calc_phi_from_harmonics, get_preferences\n",
    "from plot.myFunctions_plot import myplot_fast, myplot_fast2, myplot_fast3"
   ]
  },
  {
   "cell_type": "code",
   "execution_count": null,
   "metadata": {},
   "outputs": [],
   "source": [
    "def get_sens(db):\n",
    "    dp = get_preferences(db)\n",
    "    try:\n",
    "        dict_sens = {0: dp['Sensor.Blade#1.Flap@Sensitivity'],\n",
    "                     1: dp['Sensor.Blade#2.Flap@Sensitivity'],\n",
    "                     2: dp['Sensor.Blade#3.Flap@Sensitivity'],\n",
    "                     3: dp['Sensor.Blade#1.Edge@Sensitivity'],\n",
    "                     4: dp['Sensor.Blade#2.Edge@Sensitivity'],\n",
    "                     5: dp['Sensor.Blade#3.Edge@Sensitivity']}\n",
    "    except:\n",
    "        print(f'could not read sensitivities for {db}')\n",
    "        dict_sens = {i: 1000 for i in range(5)}\n",
    "        \n",
    "    return(dict_sens)"
   ]
  },
  {
   "cell_type": "code",
   "execution_count": null,
   "metadata": {},
   "outputs": [],
   "source": [
    "def calc_pitch_ratio(df):\n",
    "    a_max = df.max()\n",
    "    return({blade: -np.arctan(a_max[f\"flap-{blade}\"]/a_max[f\"edge-{blade}\"])*180/np.pi for blade in range(1,4)})"
   ]
  },
  {
   "cell_type": "code",
   "execution_count": null,
   "metadata": {},
   "outputs": [],
   "source": [
    "# adds a column that contains the rescaled angles in the given column in degrees\n",
    "def add_col_pitch_deg(df, cols):\n",
    "    if isinstance(cols, str):\n",
    "        cols = [cols]\n",
    "        \n",
    "    for col in cols:\n",
    "        df = df.assign(tmp=df.loc[:, col].values*180/np.pi).rename(columns={'tmp': f'{col}_deg'})\n",
    "        \n",
    "    return(df)"
   ]
  },
  {
   "cell_type": "code",
   "execution_count": null,
   "metadata": {},
   "outputs": [],
   "source": [
    "# function to load the data of pitch angle test on WK49 and comparison data, the only aim of this function is to make the further parts of this notebook better readable\n",
    "def load_data_WK49(path, datatype='at'):\n",
    "    fn1 = f'{datatype}__Wikinger_AdwenWK09__20190416_133949.csv'\n",
    "    fn2 = f'{datatype}__Wikinger_AdwenWK09__20190416_111640.csv'\n",
    "    fntest = f'{datatype}__Wikinger_AdwenWK09__20190417_151313.csv'\n",
    "    \n",
    "    df1 = pd.read_csv(f'{path}\\\\data\\\\{fn1}', sep=',', index_col = 0, parse_dates=[0])\n",
    "    df2 = pd.read_csv(f'{path}\\\\data\\\\{fn2}', sep=',', index_col = 0, parse_dates=[0])\n",
    "    dftest = pd.read_csv(f'{path}\\\\data\\\\{fntest}', sep=',', index_col = 0, parse_dates=[0])\n",
    "    \n",
    "    if datatype=='af':\n",
    "        # the af data downloaded from webVis have column names edge-1, edge-2 etc., the at data Channel-0, Channel-1 etc. Since the later used functions are designed for the at data the column names of the af data are renamed according to this dictionary\n",
    "        dict_rename_af = {'flap-1': 'Channel-0', 'flap-2': 'Channel-1', 'flap-3': 'Channel-2', 'edge-1': 'Channel-3', 'edge-2': 'Channel-4', 'edge-3': 'Channel-5'}\n",
    "        dict_rename_af_inv = {v:k for k,v in dict_rename_af.items()}\n",
    "        df1 = digits2g_df(df1.rename(columns=dict_rename_af), dict_sens=dict_sens_WK49).rename(columns=dict_rename_af_inv)\n",
    "        df2 = digits2g_df(df2.rename(columns=dict_rename_af), dict_sens=dict_sens_WK49).rename(columns=dict_rename_af_inv)\n",
    "        dftest = digits2g_df(dftest.rename(columns=dict_rename_af), dict_sens=dict_sens_WK49).rename(columns=dict_rename_af_inv)\n",
    "    \n",
    "    else:\n",
    "        df1 = digits2g_df(df1, dict_sens=dict_sens_WK49)\n",
    "        df1.index.name = 'time'\n",
    "        df2 = digits2g_df(df2, dict_sens=dict_sens_WK49)\n",
    "        df2.index.name = 'time'\n",
    "        dftest = digits2g_df(dftest, dict_sens=dict_sens_WK49)\n",
    "        dftest.index.name = 'time'\n",
    "    \n",
    "    return(df1, df2, dftest) "
   ]
  },
  {
   "cell_type": "markdown",
   "metadata": {},
   "source": [
    "Die folgenden Analysen werden an folgenden Beispieldatensätzen durchgeführt:\n",
    "\n",
    "|Nr.|WEA|create_time|cycle-ID|T|$v_{wind}$|pitch|$\\omega$|P|Bemerkung|\n",
    "|:---|:---|:---|:---|:---|:---|:---|:---|:---|:---|\n",
    "|1|Wikinger, Adwen WK09 (cmrblba_bc_t_01812)|2019-4-16, 13:39:49|17398|13.1$^o$C|6.76$\\frac{m}{s}$|0.00$^o$|0.128 Hz|926.6 kW|Zeitreihe vor den Pitchwinkeltests am 17.4.2019|\n",
    "|2|Wikinger, Adwen WK09 (cmrblba_bc_t_01812)|2019-4-17, 15:13:13|102|14$^o$C|5.93$\\frac{m}{s}$|0.01$^o$|0.121 Hz|529.4 kW|einzig verfügbare Zeitreihe während der Pitchwinkeltests am 17.4.2019, s. Email von Daniel Pika an DB vom 17.4.2019, 15:25 Uhr, dort bei Test 2 grün eingetragen der Zeitraum der beiden Pitch-Verstellungen von RBL1 und 3 (in unterschiedlichen Zeilen!), dementsprechend Offset von RBL1=-3.48°, von RBL3=-0.56°. Lt. Besprechung m. Sebastian Bitzer ist allerdings anscheinend eins der Vorzeichen falsch|\n",
    "|3|Schmelz, GE 28155944 (cmrblba_bc_t_01703)|2018-11-2, 00:17:12|33399|11.9$^o$C|7.41$\\frac{m}{s}$|-1.74$^o$|0.201 Hz|1336.9 kW|Zeitpunkt vor dem Blattlagerschaden|\n",
    "|4|Schmelz, GE 28155944 (cmrblba_bc_t_01703)|2019-3-1, 00:14:28|36783|11.1$^o$C|7.53$\\frac{m}{s}$|-1.64$^o$|0.192 Hz|1115.9 kW|Zeitpunkt mit Blattlagerschaden|"
   ]
  },
  {
   "cell_type": "markdown",
   "metadata": {},
   "source": [
    "Zunächst sollen die verschiedenen Berechnungsmethoden auf die Zeitreihe beim Test mit der Pitchwinkelverstellung an der Wikinger, Adwen WK09 am 17.4.2019 angewendet werden (Details s.u.). Bei diesem ist folgendes zu beachten:\n",
    "\n",
    "* lt. Email von Daniel Pika an DB vom 17.4.2019, 15:25 Uhr wurden betrugen die Pitchwinkelfehlstellungen für RBL1 -3.48° und für RBL3 -0.56°. Vermutlich (das geht aus der Email nicht ganz so eindeutig hervor, wäre aber am logischsten) wurde RBL2 nicht verstellt, d.h. hier wäre die Fehlstellung 0.\n",
    "    \n",
    "* lt. Gespräch mit Sebastian Bitzer vom 27.1.2021 und seinem Commit zur Datei test_schedule_bc_t_01812.csv in seinem Git-directory wurde vermutlich das Vorzeichen von RBL1 versehentlich falsch angegeben, mit korrigiertem Vorzeichen entspricht die Abweichung auch seinen Analysen zur aerodynamischen Unwucht.\n",
    "\n",
    "* die Pitchwinkelfehlstellungen betragen damit:\n",
    "\n",
    "    * RBL1: 3.48°\n",
    "    * RBL2: 0\n",
    "    * RBL3: -0.56°\n",
    "   \n",
    "Zum Vergleich mit den Testwerten bzw. um diese überhaupt berechnen zu können werden zwei weitere Zeitreihen vor dem Test betrachtet. Zur Berechnung der Test-Fehlstellung würde eine dieser Vergleichszeitreihen genügen. Die andere dient dazu, sicherzustellen, dass bei der Vergleichszeitreihe nicht auch zufällig irgendeine Pitchverstellung auftritt. D.h. die Vergleichszeitreihen sollten ähnliche Pitchwinkel aufweisen (oder zumindeste ähnliche Differenzen der Pitchwinkel zwischen den einzelnen RBLs). Die Differenz der Pitchwinkel in der Vergleichszeitreihen und beim Test sollte dann die eingestellten Pitchwinkelfehlstellungen ergeben.\n",
    "Die drei Zeitreihen haben folgende (Externals-)Daten:\n",
    "\n",
    "|ZR|Datum|CID|$T /°C$|$v_w / \\frac{m}{s}$|$\\varphi /°$|$\\omega /Hz$|$P /kW$|\n",
    "|---|---|---|---|---|---|---|---|\n",
    "|ok1|2019-4-16, 13:39:49 CET|17398|13.1|6.76|0|0.128|926.6|\n",
    "|ok2|2019-4-16, 11:16:40 CET|17278|12.5|4.72|0|0.118|215.9|\n",
    "|test|2019-4-17, 15:13:13 CET|102|14|5.93|0.01|0.121|529.4|"
   ]
  },
  {
   "cell_type": "markdown",
   "metadata": {},
   "source": [
    "Bei den Externals-Pitchwinkeln (bzw. pitch_mean) ist dabei Folgendes zu beachten (s. Email von FM, 3.2.2021, 15:19 CET):\n",
    "\n",
    "\"Es gibt System, die nur einen SOLL-Pitch-Winkel als Prozessdatum anbieten und es gibt Systeme wo der IST-Pitch-Winkel als Messwert erfasst und rückgespielt wird.\n",
    "Unabhängig vom konkreten System werden die Werte im Backup nur als ein Wert geführt. Da wo mehre Werte existieren wird RBL1 aber nicht zwingend nach der BLADEcontrol-Zählweise sondern eher in Reihenfolge der MODBUS Register eingetragen.\n",
    "\n",
    "Was auch verloren geht ist der Fakt, dass der Pitch-Winkel abhängig vom Winkel während eine Umdrehung variiert. Dies wird als „Osszilieren“ bezeichnet und macht mitunter absolut 5° aus.\n",
    "Damit soll u.a. der Impact der Blattturmpassage  abgemildert werden.  \n",
    "\n",
    "Was ebenfalls unschön ist, dass die Prozesswerte potenziell mit einer variablen Latenz von 1-3 Sekunden ankommen können und a priori nur grob synchron sind. \n",
    "\n",
    "Kurzum - Letztlich kann man mit dem Pitch-Mittelwert nur den Betriebsstatus (operational state)  der Turbine ableiten.\n",
    "\n",
    "In meiner zukünftigen Systemarchitektur werden MEMS auch an der Blattwurzel den Pitch-Wert synchron zu unseren Messwerten aufnehmen. Dann sollte man auch das Oszillieren sehen können.\""
   ]
  },
  {
   "cell_type": "code",
   "execution_count": null,
   "metadata": {},
   "outputs": [],
   "source": [
    "db = 'cmrblba_bc_t_01812'"
   ]
  },
  {
   "cell_type": "code",
   "execution_count": null,
   "metadata": {},
   "outputs": [],
   "source": [
    "#dp = get_preferences(db)\n",
    "print(get_sens(db))"
   ]
  },
  {
   "cell_type": "markdown",
   "metadata": {},
   "source": [
    "In den Preferences werden die sensitivities i.d.R. nicht eingetragen, sie stehen im Feld \"Empfindlichkeiten\", das aber bei obigen ausgelesenen preferences nicht enthalten ist. Deshalb erstmal hier manuelles Eintragen der sensitivies, aber TODO 2021-1-24: Funktion noch anpassen, so dass die richtigen Werten zurueckgegeben werden"
   ]
  },
  {
   "cell_type": "code",
   "execution_count": null,
   "metadata": {},
   "outputs": [],
   "source": [
    "dict_sens_WK49 = {0: 983, 1: 972, 2: 975, 3: 983, 4: 972, 5: 975}"
   ]
  },
  {
   "cell_type": "code",
   "execution_count": null,
   "metadata": {},
   "outputs": [],
   "source": [
    "path = r\"M:\\03-Projekte\\Eis-Algorithmus-Eispeakeinstellung\\500_Arbeitsunterlagen\\Transfer_CK\\aerodynUnwucht\\pitch_angle_calculation\\Experiment_WK09\""
   ]
  },
  {
   "cell_type": "markdown",
   "metadata": {},
   "source": [
    "Es werden zwei ok-Spektren verwendet, um zu prüfen, ob die Abweichung des Pitchwinkels von RBL1 gegenüber den anderen beiden Blättern im Normalzustand immer so ist, oder ob es evtl. noch eine andere Fehlstellung war in der Vergleichszeitreihe zum Pitchwinkeltest. Da die Abweichung aber für beide ok-Zyklen etwa gleichgroß ist, ist anzunehmen, dass dieser Unterschied tatsächlich so vorhanden ist. Möglicherweise handelt es sich um eine Sensorverkippung o.ä."
   ]
  },
  {
   "cell_type": "markdown",
   "metadata": {},
   "source": [
    "### 1.2 Berechnung mittels Verhältnis der Beschleunigungswerte"
   ]
  },
  {
   "cell_type": "markdown",
   "metadata": {},
   "source": [
    "#### 1.2.1 Herleitung"
   ]
  },
  {
   "cell_type": "markdown",
   "metadata": {},
   "source": [
    "#### 1.2.2 Test an Daten"
   ]
  },
  {
   "cell_type": "markdown",
   "metadata": {},
   "source": [
    "Hier erfolgt die Berechnung mittels af-Daten. Um die bereits definierte Funktione zur Umrechnung digigs->g verwenden zu können werden die Spalten temporär umbenannt."
   ]
  },
  {
   "cell_type": "code",
   "execution_count": null,
   "metadata": {},
   "outputs": [],
   "source": [
    "df1_af, df2_af, dftest_af = load_data_WK49(path, datatype='af')"
   ]
  },
  {
   "cell_type": "code",
   "execution_count": null,
   "metadata": {},
   "outputs": [],
   "source": [
    "dict_ok1 = calc_pitch_ratio(df1_af)\n",
    "dict_ok2 = calc_pitch_ratio(df2_af)\n",
    "dict_test = calc_pitch_ratio(dftest_af)"
   ]
  },
  {
   "cell_type": "code",
   "execution_count": null,
   "metadata": {},
   "outputs": [],
   "source": [
    "print(f'ok1: {dict_ok1}')\n",
    "print(f'ok2: {dict_ok2}')\n",
    "print(f'test: {dict_test}')"
   ]
  },
  {
   "cell_type": "markdown",
   "metadata": {},
   "source": [
    "Für die Pitchwinkelabweichung während des Tests folgt damit:"
   ]
  },
  {
   "cell_type": "code",
   "execution_count": null,
   "metadata": {},
   "outputs": [],
   "source": [
    "for blade in range(1,4):\n",
    "    print(f'blade {blade}, test-ok1: {round(dict_test[blade]-dict_ok1[blade],3)}, test-ok2: {round(dict_test[blade]-dict_ok2[blade],3)}')"
   ]
  },
  {
   "cell_type": "markdown",
   "metadata": {},
   "source": [
    "### 1.3 Berechnung mittels Regression"
   ]
  },
  {
   "cell_type": "markdown",
   "metadata": {},
   "source": [
    "TODO 2021-1-15:\n",
    "    * zusaetzlich noch aoa ausrechnen\n",
    "    * dann vergleichen:\n",
    "        * vernuenftige Werte fuer pitch, gamma, alpha?\n",
    "        * ..."
   ]
  },
  {
   "cell_type": "code",
   "execution_count": null,
   "metadata": {},
   "outputs": [],
   "source": [
    "#df = get_data_from_dbs30(db, dt(2019,4,17,15,13,13), 102)\n",
    "## read in csv data\n",
    "#df = pd.read_csv(f'{path}\\\\data\\\\{fn}', sep=',', index_col = 0, parse_dates=[0])\n",
    "#df.index.name='time'"
   ]
  },
  {
   "cell_type": "code",
   "execution_count": null,
   "metadata": {},
   "outputs": [],
   "source": [
    "df_ok1, df_ok2, df_test = load_data_WK49(path)"
   ]
  },
  {
   "cell_type": "markdown",
   "metadata": {},
   "source": [
    "Als Plausibilitätscheck werden die Daten für ok2 betrachtet und dargestellt:"
   ]
  },
  {
   "cell_type": "code",
   "execution_count": null,
   "metadata": {},
   "outputs": [],
   "source": [
    "print(df_ok2.shape)\n",
    "df_ok2.head()"
   ]
  },
  {
   "cell_type": "code",
   "execution_count": null,
   "metadata": {},
   "outputs": [],
   "source": [
    "blade = 2\n",
    "edge, flap = get_ef(df_ok2, blade=blade, wdw_size_prae=1)"
   ]
  },
  {
   "cell_type": "code",
   "execution_count": null,
   "metadata": {},
   "outputs": [],
   "source": [
    "nor = (edge**2+flap**2)**(.5)"
   ]
  },
  {
   "cell_type": "code",
   "execution_count": null,
   "metadata": {},
   "outputs": [],
   "source": [
    "fig = plt.figure()\n",
    "plt.plot(edge)\n",
    "plt.plot(flap)\n",
    "plt.plot(nor)\n",
    "plt.grid()"
   ]
  },
  {
   "cell_type": "markdown",
   "metadata": {},
   "source": [
    "Besprechung mit Frank Müller, 2021-1-27:\n",
    "\n",
    "* Sensoren haben Dämpfung unterhalb ca. 0.3 Hz\n",
    "* alles oberhalb 0.3 Hz wird dann linear angezeigt\n",
    "* bei kleineren Frequenzen liegt g bei ungefähr 25000 digits\n",
    "* Dämpfungskurven in Datenblättern\n",
    "* Vergleich wäre auch mit MEMS in den BCOpto-Anlagen möglich, diese haben keine Dämpfung"
   ]
  },
  {
   "cell_type": "markdown",
   "metadata": {},
   "source": [
    "Umrechnung (noch prüfen, ob korrekt, geht bestimmt auch noch alles viel eleganter -> spaeter verbessern):\n",
    "Für den Umrechnungsfaktor der Spannung $u$ in Digits in die Beschleunigung $a$ gilt, abhängig von der Frequenz:\n",
    "$$\n",
    "\\begin{align*}\n",
    "a(f) &= \\kappa(f) u(f) \\\\\n",
    "ln \\frac{\\kappa(f)}{\\kappa(f_{ref})} &= -r \\\\\n",
    "\\kappa(f) &= \\kappa(f_{ref}) e^{-r} \\\\\n",
    "a(f) &= e^{-r} \\kappa(f_{ref}) u(f)\n",
    "\\end{align*}\n",
    "$$"
   ]
  },
  {
   "cell_type": "code",
   "execution_count": null,
   "metadata": {},
   "outputs": [],
   "source": [
    "# TODO 2021-2-2: eleganter machen\n",
    "def get_scaling_factor(f):    \n",
    "    r = np.interp(f, [.1, .15, .2, .3, .4, .5, .6, .7],\n",
    "                     [-3, -1.5, -1, -0.65, -0.3, -0.15, -0.05, 0],\n",
    "                 left=np.nan, right=0)    \n",
    "    return(np.exp(-r))"
   ]
  },
  {
   "cell_type": "code",
   "execution_count": null,
   "metadata": {},
   "outputs": [],
   "source": [
    "#from scipy.signal import butter, lfilter\n",
    "col = blade-1\n",
    "cutoff_freq=.5\n",
    "sample_rate=1000\n",
    "order = 1"
   ]
  },
  {
   "cell_type": "code",
   "execution_count": null,
   "metadata": {},
   "outputs": [],
   "source": [
    "edge_b = butter_lowpass_filter(edge, cutoff_freq, sample_rate, order=order)    \n",
    "flap_b = butter_lowpass_filter(flap, cutoff_freq, sample_rate, order=order)"
   ]
  },
  {
   "cell_type": "code",
   "execution_count": null,
   "metadata": {},
   "outputs": [],
   "source": [
    "#fig = plt.figure()\n",
    "plt.plot(edge_b)\n",
    "plt.plot(flap_b)"
   ]
  },
  {
   "cell_type": "markdown",
   "metadata": {},
   "source": [
    "Berechnung der Parameter für die ZR des Fehlstellungstests:"
   ]
  },
  {
   "cell_type": "code",
   "execution_count": null,
   "metadata": {},
   "outputs": [],
   "source": [
    "# calculate the pitch angel for each revolution separately\n",
    "df_res,dict_plots = calc_pitch_df(df_test, blades = range(1,4), scale_fct = None, #get_scaling_factor,\n",
    "                    sample_rate = 1000, wdw_size_prae = 1001, min_amp = 1/32, \n",
    "                    idx_first = 1, idx_last = -1, single_revolutions=True)"
   ]
  },
  {
   "cell_type": "code",
   "execution_count": null,
   "metadata": {},
   "outputs": [],
   "source": [
    "df_res = add_col_pitch_deg(df_res, ['pitch1', 'pitch2', 'alpha', 'gamma1', 'gamma2'])"
   ]
  },
  {
   "cell_type": "code",
   "execution_count": null,
   "metadata": {},
   "outputs": [],
   "source": [
    "df_res.head()"
   ]
  },
  {
   "cell_type": "code",
   "execution_count": null,
   "metadata": {},
   "outputs": [],
   "source": [
    "_tmp=df_res.boxplot(column=['r2e','r2f'], by='blade', figsize=(6,4))"
   ]
  },
  {
   "cell_type": "code",
   "execution_count": null,
   "metadata": {},
   "outputs": [],
   "source": [
    "_tmp=df_res.boxplot(column=['pitch1_deg','pitch2_deg'], by='blade', figsize=(6,4))"
   ]
  },
  {
   "cell_type": "markdown",
   "metadata": {},
   "source": [
    "#### Vergleich der test-ZR mit den ok-ZRs"
   ]
  },
  {
   "cell_type": "markdown",
   "metadata": {},
   "source": [
    "Berechnung der Pitch- und anderen Winkel"
   ]
  },
  {
   "cell_type": "code",
   "execution_count": null,
   "metadata": {},
   "outputs": [],
   "source": [
    "res = list()\n",
    "for df in [df_ok1, df_ok2, df_test]:\n",
    "    df_tmp,_dict_plots = calc_pitch_df(df, blades = range(1,4), scale_fct = None, #get_scaling_factor,\n",
    "                                        sample_rate = 1000, wdw_size_prae = 1001, min_amp = 1/32, \n",
    "                                        idx_first = 1, idx_last = -1, single_revolutions=True)\n",
    "    \n",
    "    \n",
    "    df_pitch = add_col_pitch_deg(df_tmp, ['pitch1', 'pitch2', 'alpha', 'gamma1', 'gamma2']).loc[:, ['blade', 'pitch1_deg', 'pitch2_deg', 'alpha_deg', 'gamma1_deg', 'gamma2_deg']].groupby('blade').median()\n",
    "    res.append(df_pitch)"
   ]
  },
  {
   "cell_type": "markdown",
   "metadata": {},
   "source": [
    "Vergleich der beiden ok-ZRs miteinander:"
   ]
  },
  {
   "cell_type": "code",
   "execution_count": null,
   "metadata": {},
   "outputs": [],
   "source": [
    "res[1]-res[0]"
   ]
  },
  {
   "cell_type": "markdown",
   "metadata": {},
   "source": [
    "Vergleich von test mit ok1:"
   ]
  },
  {
   "cell_type": "code",
   "execution_count": null,
   "metadata": {},
   "outputs": [],
   "source": [
    "res[2]-res[0]"
   ]
  },
  {
   "cell_type": "markdown",
   "metadata": {},
   "source": [
    "Vergleich von test mit ok2:"
   ]
  },
  {
   "cell_type": "code",
   "execution_count": null,
   "metadata": {},
   "outputs": [],
   "source": [
    "res[2]-res[1]"
   ]
  },
  {
   "cell_type": "markdown",
   "metadata": {},
   "source": [
    "Von den beiden Pitchwinkel-Variablen liefert pitch2 das am besten mit dem Experiment übereinstimmende Ergebnis. Ebenso scheint am ehesten gamma2_deg die sinnvollsten Differenzwerte zu liefern, inwieweit auch die absoluten Werte richtig sind, muss noch untersucht werden. Ebenso muss untersucht werden, wieso überhaupt die Unterschiede zustandekommen zwischen pitch1 und pitch2 bzw. gamma1 und gamma2. Der Wert von alpha sollte eigentlich für alle Messungen gleich sein. Allerdings ist hier die Dämpfung bei geringen Drehfrequenzen noch nicht berücksichtigt, dies könnte möglicherweise die Abweichungen erklären. Untersuchungen zur Genauigkeit von alpha sind erst dann sinnvoll, wenn dies erfolgt ist."
   ]
  },
  {
   "cell_type": "markdown",
   "metadata": {},
   "source": [
    "TODO 2021-2-2: andere Variablen (pitch1 usw.) ansehen, mit Frequenzgang korrigieren und Abweichungsursachen herausfinden"
   ]
  },
  {
   "cell_type": "markdown",
   "metadata": {},
   "source": [
    "Ungeachtet der zu klärenden Fragen werden im Folgenden zunächst pitch2 als Pitchwinkel, gamma2 als Biegewinkel angesehen."
   ]
  },
  {
   "cell_type": "markdown",
   "metadata": {},
   "source": [
    "Das Verfahren berechnet den \"Pitchwinkel\" am Ort des Sensors. Dies ist aufgrund der Verwindung des RBLs i.a. nicht der tatsächliche Pitchwinkel sondern der um einen gewissen Offset gedrehte Pitchwinkel. Zur Berechnung dieses Offsets werden die Daten über einen längeren Zeitraum berechnet und dann der Offset als Median der Abweichung des von den Externals gelieferten Pitchwinkels vom berechneten Winkel ermittelt.\n",
    "Dabei ist zu beachten, dass infolge der Streckung des RBLs durch die Fliehkraft dieser Offset i.d.R. abhängig von $\\omega$ ist. Die Offset-Ermittlung erfolgt deshalb zunächst nur für einen sehr enges Drehzahlintervall. Durch Berechnung auch für andere Drehzahlen und Darstellung vs. $\\omega$ lässt sich diese Abhängigkeit dann ebenfalls ermitteln."
   ]
  },
  {
   "cell_type": "code",
   "execution_count": null,
   "metadata": {},
   "outputs": [],
   "source": [
    "df_per, list_problems = calc_pitch_period(db, (dt(2019,4,1),dt(2019,5,1)))\n",
    "#df_per, list_problems = calc_pitch_period(db, (dt(2017,11,28), dt.now())\n",
    "df = add_col_pitch_deg(df_per, ['pitch1', 'pitch2', 'alpha', 'gamma1', 'gamma2'])\n",
    "df.shape"
   ]
  },
  {
   "cell_type": "code",
   "execution_count": null,
   "metadata": {},
   "outputs": [],
   "source": [
    "df[(df.ID==102) & (df.blade==1)].iloc[0]"
   ]
  },
  {
   "cell_type": "markdown",
   "metadata": {},
   "source": [
    "Ausschluss von Umläufen mit zu schlechten Bestimmtheitsmaßwerten der Regressionen:"
   ]
  },
  {
   "cell_type": "code",
   "execution_count": null,
   "metadata": {},
   "outputs": [],
   "source": [
    "df2 = df[(df.r2e>0.95) & (df.r2f>0.9)]\n",
    "print(df2.shape)"
   ]
  },
  {
   "cell_type": "code",
   "execution_count": null,
   "metadata": {},
   "outputs": [],
   "source": []
  },
  {
   "cell_type": "code",
   "execution_count": null,
   "metadata": {},
   "outputs": [],
   "source": [
    "TODO 2021-2-3: \n",
    "- statt pitch_mean paarweise Differenzen ansehen, ggf. Abw. zum MW als Shift nehmen, jedenfalls was besseres ueberlegen (s.Email von FM oben)\n",
    "- auch aoa pruefen (viell. so, dass aoa=const=f(omega, v, R)-pitch)?\n",
    "- Darstellung vs. Omega fuer Abhangigkeit des Shiftwinkels machen"
   ]
  },
  {
   "cell_type": "code",
   "execution_count": null,
   "metadata": {},
   "outputs": [],
   "source": []
  },
  {
   "cell_type": "code",
   "execution_count": null,
   "metadata": {},
   "outputs": [],
   "source": [
    "df2 = df2.assign(shift_deg=df2.pitch2_deg.subtract(df2.pitch_mean))"
   ]
  },
  {
   "cell_type": "code",
   "execution_count": null,
   "metadata": {},
   "outputs": [],
   "source": [
    "df2.boxplot(column='shift_deg', by='blade', figsize=(6,4))"
   ]
  },
  {
   "cell_type": "code",
   "execution_count": null,
   "metadata": {},
   "outputs": [],
   "source": [
    "df_shifts = df2.loc[:, ['blade', 'shift_deg']].groupby('blade').median()\n",
    "df_shifts"
   ]
  },
  {
   "cell_type": "code",
   "execution_count": null,
   "metadata": {},
   "outputs": [],
   "source": [
    "for bl in range(1,4):\n",
    "    shift = df_shifts.loc[bl][0]\n",
    "    df2.loc[df2.blade==bl, 'pitch2_deg_shift'] = df2[df2.blade==bl].pitch2_deg-shift"
   ]
  },
  {
   "cell_type": "code",
   "execution_count": null,
   "metadata": {},
   "outputs": [],
   "source": [
    "df2.boxplot(['pitch2_deg_shift', 'pitch2_deg'], by='blade', figsize=(6,4))"
   ]
  },
  {
   "cell_type": "code",
   "execution_count": null,
   "metadata": {},
   "outputs": [],
   "source": [
    "df3 = df2[df2.pitch2_deg_shift>-25]"
   ]
  },
  {
   "cell_type": "code",
   "execution_count": null,
   "metadata": {},
   "outputs": [],
   "source": [
    "df3.boxplot('pitch2_deg_shift', by='blade', figsize=(6,4))"
   ]
  },
  {
   "cell_type": "code",
   "execution_count": null,
   "metadata": {},
   "outputs": [],
   "source": [
    "fig = plt.figure()\n",
    "df3.drop_duplicates(subset=['create_time', 'ID']).boxplot('pitch_mean', figsize=(6,4))"
   ]
  },
  {
   "cell_type": "code",
   "execution_count": null,
   "metadata": {},
   "outputs": [],
   "source": [
    "fig = plt.figure()\n",
    "sns.scatterplot(x=\"pitch_mean\", y=\"pitch2_deg_shift\", hue=\"blade\", data=df3)"
   ]
  },
  {
   "cell_type": "code",
   "execution_count": null,
   "metadata": {},
   "outputs": [],
   "source": [
    "df3[(df3.ID==102)].blade.unique()# & (df2.blade==1)]"
   ]
  },
  {
   "cell_type": "code",
   "execution_count": null,
   "metadata": {},
   "outputs": [],
   "source": [
    "fig = plt.figure()\n",
    "sns.scatterplot(data=df3, x=\"create_time\", y=\"pitch2_deg\", hue=\"blade\")\n",
    "plt.grid()\n",
    "#plt.ylim([-5,5])"
   ]
  },
  {
   "cell_type": "code",
   "execution_count": null,
   "metadata": {},
   "outputs": [],
   "source": [
    "legend = list()\n",
    "list_plots = list()\n",
    "\n",
    "kwargs = {'figsize': (8,5), 'iAxisLabelSize': 9, 'iLegendSize': 9, 'iFontSize': 10, 'iFontSizeTitle': 10}\n",
    "\n",
    "for k, list_plot in dict_plots.items():\n",
    "    blade = k[0]\n",
    "    cnt = k[1]\n",
    "    legend_b = [f'e{blade} meas.', f'f{blade} meas.', \n",
    "                'e{blade} pred.', 'f{blade} pred.']\n",
    "        \n",
    "    myplot_fast2(list_plot, fn = None, \n",
    "                 s_title=f'{db}, edge, flap control plot for ' + \\\n",
    "                 'regression a_t ~ cos + sin',\n",
    "                 legend = legend_b, \n",
    "                 projection = 'polar', \n",
    "                 **kwargs)"
   ]
  },
  {
   "cell_type": "code",
   "execution_count": null,
   "metadata": {},
   "outputs": [],
   "source": [
    "df_res.loc[:, ['blade','pitch2']].groupby(by='blade').mean()"
   ]
  },
  {
   "cell_type": "code",
   "execution_count": null,
   "metadata": {},
   "outputs": [],
   "source": [
    "df_res.boxplot(column='pitch2_deg', by='blade')"
   ]
  },
  {
   "cell_type": "code",
   "execution_count": null,
   "metadata": {},
   "outputs": [],
   "source": [
    "df_res.boxplot(column='gamma1_deg', by='blade')"
   ]
  },
  {
   "cell_type": "code",
   "execution_count": null,
   "metadata": {},
   "outputs": [],
   "source": [
    "df_res = df_res.assign(alpha = )"
   ]
  },
  {
   "cell_type": "code",
   "execution_count": null,
   "metadata": {},
   "outputs": [],
   "source": [
    "df_res.boxplot(column='alpha', by='blade')"
   ]
  },
  {
   "cell_type": "code",
   "execution_count": null,
   "metadata": {},
   "outputs": [],
   "source": []
  },
  {
   "cell_type": "code",
   "execution_count": null,
   "metadata": {},
   "outputs": [],
   "source": [
    "\n",
    "wdw_size_prae = 1\n",
    "wdw_size_post = 10001\n",
    "    \n",
    "sample_rate = 1000    \n",
    "cutoff_freq = 1\n",
    "    \n",
    "res = []\n",
    "\n",
    "for fn in fns:\n"
   ]
  },
  {
   "cell_type": "code",
   "execution_count": null,
   "metadata": {},
   "outputs": [],
   "source": [
    "Fragen:\n",
    "\n",
    "* Wieso kommen unterschiedliche Werte fuer $\\varphi$ heraus, je nachdem, welche Koeffizienten $b$ man verwendet?\n",
    "* spezifischer: Wieso kommt mit Koeffizienten $b_2^e$ und $b_2^f$ ein vernuenftiger Wert raus, mit den anderen nicht?\n",
    "\n",
    "\n"
   ]
  },
  {
   "cell_type": "code",
   "execution_count": null,
   "metadata": {},
   "outputs": [],
   "source": []
  },
  {
   "cell_type": "markdown",
   "metadata": {},
   "source": [
    "# 2 Pitchwinkeltest an Wikinger, Adwen WK09"
   ]
  },
  {
   "cell_type": "markdown",
   "metadata": {},
   "source": [
    "- Wikinger, Adwen WK09\n",
    "- durchgeführt am 17.04.2019, 11:39 - 15:14 MESZ\n",
    "- 11 Tests mit unterschiedlichen Pitchwinkel-Offsets an allen 3 Blättern\n",
    "- die Zeitangaben in der Email von Daniel Pika vom 17.4.2019, 15:25 Uhr sind offenbar UTC\n",
    "- einige davon sind nicht ganz richtig (Typos, z.B. 15:25 statt 12:25, und anderes)\n",
    "- zusammen mit den Einträgen im PIT (Adwen WK09->Emails->daniel.pika@siemensgamesa.com, 17.04.2019 15:25:34) und dem Vgl. mit den Verläufen in der Graphical History ergeben sich folgende Zeiten (zuerste UTC, werden unten dann auf MESZ umgeschrieben):"
   ]
  },
  {
   "cell_type": "code",
   "execution_count": null,
   "metadata": {},
   "outputs": [],
   "source": [
    "db = 'cmrblba_bc_t_01812'\n",
    "band = [54, 66]\n",
    "bw = band[1]-band[0]\n",
    "eps = 1e-10"
   ]
  },
  {
   "cell_type": "code",
   "execution_count": null,
   "metadata": {},
   "outputs": [],
   "source": [
    "## short version of db-name\n",
    "db_short = db.replace('cmrblba_', '')\n",
    "path_img = \n",
    "## file with test schedule\n",
    "fn_test_schedule = f'{path_img}\\\\test_schedule_{db_short}.csv'\n",
    "#df_times_exp = dl.read_test_schedule(db_short, fn_test_schedule)\n",
    "df_times_exp = pd.read_csv(db_short)\n",
    "## shift time by 2 hours already done in read_test_schedule\n",
    "df_times_exp"
   ]
  },
  {
   "cell_type": "code",
   "execution_count": null,
   "metadata": {},
   "outputs": [],
   "source": [
    "path = r'M:\\03-Projekte\\Eis-Algorithmus-Eispeakeinstellung\\500_Arbeitsunterlagen\\Transfer_CK\\aerodynUnwucht\\pitch_angle_calculation'"
   ]
  },
  {
   "cell_type": "code",
   "execution_count": null,
   "metadata": {},
   "outputs": [],
   "source": [
    "fn_hd5 = f'{path_data}\\\\{db}_se.hd5'\n",
    "fn_cdef = f'{path_data}\\\\{db}_status.pkl'"
   ]
  },
  {
   "cell_type": "code",
   "execution_count": null,
   "metadata": {},
   "outputs": [],
   "source": [
    "## get the 'cells' for those times:\n",
    "## here using of 'externals' ok, because no join between externals and se data\n",
    "dict_exp_limits = {}\n",
    "cols = ['pitch', 'power', 'temperature', 'wind']\n",
    "\n",
    "for k, [start_time, end_time, os1, os2, os3] in df_times_exp.iterrows():\n",
    "    period = (start_time, end_time)\n",
    "    df = weadbs.cdef_query(db,\n",
    "                            cycle='externals', \n",
    "                            columns=['wind', 'power', 'pitch', 'temperature'],\n",
    "                            where={'create_time': period})\n",
    "    \n",
    "    n = df.shape[0]\n",
    "    dict_tmp = {'count': n, 'period': period}\n",
    "    if n==0:\n",
    "        df = weadbs.cdef_query(db,\n",
    "                              cycle='status',\n",
    "                              columns=['wind_mean', 'power_mean', 'pitch_mean', 'temperature_mean'],\n",
    "                              where={'create_time': period})\n",
    "        \n",
    "        if n==0:\n",
    "            dict_tmp.update({'table': 'keine'})\n",
    "            dict_tmp.update({c: (np.NaN, np.NaN) for c in cols})\n",
    "\n",
    "        else:\n",
    "            dict_tmp.update({'table': 'status'})\n",
    "            df_stat = df.describe()\n",
    "            dict_tmp.update({c: (df_stat.loc['min', c], df_stat.loc['max', c]) for c in cols})  # store results in dict.\n",
    "                                        \n",
    "    else:\n",
    "        dict_tmp.update({'table': 'ext'})\n",
    "        df_stat = df.describe()\n",
    "        dict_tmp.update({c: (df_stat.loc['min', c], df_stat.loc['max', c]) for c in cols})  # store results in dict.\n",
    "        \n",
    "    dict_exp_limits.update({k: dict_tmp})\n",
    "    \n",
    "df_exp = pd.DataFrame.from_dict(dict_exp_limits, orient = 'index')\n",
    "df_exp\n",
    "\n",
    "## Bereiche ueber alle Experimente:\n",
    "dict_mm = {}\n",
    "for c in cols:\n",
    "    tmp = [x for p in df_exp.loc[:, c] for x in p]\n",
    "    dict_mm.update({c: (min(tmp), max(tmp))})\n",
    "dict_mm"
   ]
  },
  {
   "cell_type": "code",
   "execution_count": null,
   "metadata": {},
   "outputs": [],
   "source": [
    "## get the 'cells' for those times:\n",
    "## here using of 'externals' ok, because no join between externals and se data\n",
    "dict_exp_limits = {}\n",
    "cols = ['pitch', 'power', 'temperature', 'wind']\n",
    "\n",
    "for k, [start_time, end_time, os1, os2, os3] in df_times_exp.iterrows():\n",
    "    period = (start_time, end_time)\n",
    "    df = weadbs.cdef_query(db, \n",
    "                            cycle='externals', \n",
    "                            columns=['wind', 'power', 'pitch', 'temperature'],\n",
    "                            where={'create_time': period})\n",
    "    \n",
    "    n = df.shape[0]\n",
    "    dict_tmp = {'count': n, 'period': period}\n",
    "    if n==0:\n",
    "        df = weadbs.cdef_query(db,\n",
    "                              cycle='status',\n",
    "                              columns=['wind_mean', 'power_mean', 'pitch_mean', 'temperature_mean'],\n",
    "                              where={'create_time': period})\n",
    "        \n",
    "        if n==0:\n",
    "            dict_tmp.update({'table': 'keine'})\n",
    "            dict_tmp.update({c: (np.NaN, np.NaN) for c in cols})\n",
    "\n",
    "        else:\n",
    "            dict_tmp.update({'table': 'status'})\n",
    "            df_stat = df.describe()\n",
    "            dict_tmp.update({c: (df_stat.loc['min', c], df_stat.loc['max', c]) for c in cols})  # store results in dict.\n",
    "                                        \n",
    "    else:\n",
    "        dict_tmp.update({'table': 'ext'})\n",
    "        df_stat = df.describe()\n",
    "        dict_tmp.update({c: (df_stat.loc['min', c], df_stat.loc['max', c]) for c in cols})  # store results in dict.\n",
    "        \n",
    "    dict_exp_limits.update({k: dict_tmp})\n",
    "    \n",
    "df_exp = pd.DataFrame.from_dict(dict_exp_limits, orient = 'index')\n",
    "df_exp\n",
    "\n",
    "## Bereiche ueber alle Experimente:\n",
    "dict_mm = {}\n",
    "for c in cols:\n",
    "    tmp = [x for p in df_exp.loc[:, c] for x in p]\n",
    "    dict_mm.update({c: (min(tmp), max(tmp))})\n",
    "dict_mm"
   ]
  },
  {
   "cell_type": "code",
   "execution_count": null,
   "metadata": {},
   "outputs": [],
   "source": [
    "df_exp"
   ]
  },
  {
   "cell_type": "code",
   "execution_count": null,
   "metadata": {},
   "outputs": [],
   "source": [
    "Im Zeitraum von ca. 13:09 - 13:37 Uhr sind tatsächlich offenbar keine Daten vorhanden:"
   ]
  },
  {
   "cell_type": "code",
   "execution_count": null,
   "metadata": {},
   "outputs": [],
   "source": [
    "Image(filename=f'{path_img}\\\\WK09_Exp20190417_ZeitraumKeineDaten_rot.PNG')"
   ]
  },
  {
   "cell_type": "code",
   "execution_count": null,
   "metadata": {},
   "outputs": [],
   "source": [
    "Image(filename=f'{path_img}\\\\WK09_Exp20190417_ZeitraumKeineDaten_stand.PNG')"
   ]
  },
  {
   "cell_type": "code",
   "execution_count": null,
   "metadata": {},
   "outputs": [],
   "source": []
  },
  {
   "cell_type": "code",
   "execution_count": null,
   "metadata": {},
   "outputs": [],
   "source": []
  },
  {
   "cell_type": "raw",
   "metadata": {},
   "source": [
    "Ideen 2021-1-10:\n",
    "\n",
    "* Drehfrequenz fuer alle 3 RBL einzeln bestimmen, wenn zu verschieden dann alle cyclen ausschliessen, "
   ]
  },
  {
   "cell_type": "markdown",
   "metadata": {},
   "source": [
    "## 2. Anwendungsbeispiele"
   ]
  },
  {
   "cell_type": "markdown",
   "metadata": {},
   "source": [
    "### 2.1 Buchau"
   ]
  },
  {
   "cell_type": "markdown",
   "metadata": {},
   "source": [
    "Ticket 201906-232: "
   ]
  },
  {
   "cell_type": "code",
   "execution_count": null,
   "metadata": {},
   "outputs": [],
   "source": [
    "path_img = r'M:\\03-Projekte\\Eis-Algorithmus-Eispeakeinstellung\\500_Arbeitsunterlagen\\Transfer_CK\\specialQuery\\specialQuery20200324'"
   ]
  },
  {
   "cell_type": "code",
   "execution_count": null,
   "metadata": {},
   "outputs": [],
   "source": [
    "Image(filename=path_img + '\\\\images\\\\sc__ticket201906-232.PNG')"
   ]
  },
  {
   "cell_type": "markdown",
   "metadata": {},
   "source": [
    "Berechnung der Pseudopitchwinkel (ppa):"
   ]
  },
  {
   "cell_type": "code",
   "execution_count": null,
   "metadata": {},
   "outputs": [],
   "source": [
    "path_work = r'M:\\03-Projekte\\Eis-Algorithmus-Eispeakeinstellung\\500_Arbeitsunterlagen\\Transfer_CK\\specialQuery\\specialQuery20200324'        \n",
    "dbs = ['cmrblba_bc_t_01505', 'cmrblba_bc_t_01485', 'cmrblba_bc_t_01487']    \n",
    "blades = range(1,4)\n",
    "blade_ref = 3\n",
    "blades_remain = set(blades)-{blade_ref}\n",
    "    \n",
    "col_map = {'e1': 'red',\n",
    "           'e2': 'blue',\n",
    "           'e3': 'green',\n",
    "           'f1': 'tomato',\n",
    "           'f2': 'lightblue',\n",
    "           'f3': 'lightgreen'}\n",
    "    \n",
    "#dict_style0 = {'linestyle': 'None', 'marker': '.', 'markersize': 5}\n",
    "dict_style0 = {'marker': '.', 'markersize': 7}\n",
    "\n",
    "# TODO 2020-3-28: Bedingung 'pitch<50' ersetzen durch\n",
    "# | ||(a1, b1)|| - g | < epsilon, oder so aehnlich\n",
    "filters_raw = ['r2e >= 0.9', 'r2f >= 0.75', 'f_rot < 0.3', 'pitch<50']\n",
    "period = (dt(2018,3,1), dt(2020,3,1))\n",
    "                \n",
    "kwargs = {'filters': 'omega_mean>=0.05', 'blades': blades, \n",
    "          'sample_rate': 1000, 'wdw_size_prae': 101, 'min_amp': 200}\n",
    "\n",
    "fs = (7,4)\n",
    "        \n",
    "for db in dbs:\n",
    "    print('')\n",
    "    print(db)\n",
    "\n",
    "    df_raw = get_raw_data(db, path_work, period, **kwargs)\n",
    "               \n",
    "    df_pitch = raw2pitch(df_raw, filters_raw)\n",
    "        \n",
    "    #df_pitch.to_csv(f'{path_work}\\{db}_pitch.csv', sep=';', index=False)\n",
    "\n",
    "    ## plot pitch vs. time and vs. pitch from scada\n",
    "    for blade in blades:\n",
    "        df = df_pitch[df_pitch.blade==blade].loc[:, ['create_time', 'pitch_mean', 'pitch']]\n",
    "        myplot_fast3(df, 'create_time', 'pitch', 'pitch_mean', \n",
    "                    #fn = f'{path_work}\\{db}_blade{blade}_pitch_vs_pitch_mean.png',\n",
    "                    figsize = fs, \n",
    "                    iAxisLabelSize = 9, iLegendSize = 10, iFontSize = 10, iFontSizeTitle = 11,\n",
    "                    title = f'{db}, blade {blade}')\n",
    "        #myplot_fast3(df, 'pitch_mean', 'pitch', 'create_time',                             \n",
    "        #            #fn = f'{path_work}\\{db}_blade{blade}_pitch_vs_pitch_mean.png',\n",
    "        #            figsize = fs, title = f'{db}, blade {blade}')\n",
    "\n",
    "    df_diff = calc_pitch_diff(df_pitch, blade_ref)        \n",
    "    #df_diff.to_csv(f'{path_work}\\{db}_pitch_differences.csv', sep=';', index=False)        \n",
    "                           \n",
    "    # plot differences with colormap\n",
    "    list_plot = list()\n",
    "    legend = list()\n",
    "    for blade in blades_remain:\n",
    "        col = f'pitch_{blade}-{blade_ref}'\n",
    "        dict_style = dict_style0.copy()\n",
    "        dict_style.update({'color': col_map[f'e{blade}']})\n",
    "        list_plot.append((df_diff.create_time, df_diff.loc[:, col], dict_style))\n",
    "        legend.append(col)\n",
    "                                            \n",
    "        myplot_fast3(df_diff, 'create_time', \n",
    "                    f'pitch_{blade}-{blade_ref}', \n",
    "                    f'pitch_{blade_ref}', figsize = fs,\n",
    "                    #fn = f'{path_work}\\{db}_blade{blade}_diff_vs_pitch_ref.png',\n",
    "                    iAxisLabelSize = 9, iLegendSize = 10, iFontSize = 10, iFontSizeTitle = 11,\n",
    "                    title = f'{db}, blade {blade}')\n",
    "        #myplot_fast3(df_diff, f'pitch_{blade_ref}',\n",
    "        #            f'pitch_{blade}-{blade_ref}',\n",
    "        #            'create_time', figsize = fs,\n",
    "        #            #fn = f'{path_work}\\{db}_blade{blade}_diff_vs_time.png',\n",
    "        #            title = f'{db}, blade {blade}')\n",
    "        #myplot_fast3(df_diff, 'pitch_mean',\n",
    "        #            f'pitch_{blade}-{blade_ref}',\n",
    "        #            'create_time', figsize = fs,\n",
    "        #            #fn = f'{path_work}\\{db}_blade{blade}_diff_vs_pitch_mean.png',\n",
    "        #            title = f'{db}, blade {blade}')\n",
    "                    \n",
    "    myplot_fast2(list_plot, legend = legend, \n",
    "                #fn= f'{path_work}\\{db}_pitch_differences.png', \n",
    "                iAxisLabelSize = 9, iLegendSize = 10, iFontSize = 10, iFontSizeTitle = 11,\n",
    "                s_title = f'Pseudo-Pitchwinkeldifferenzen bei {db}', figsize = fs)"
   ]
  },
  {
   "cell_type": "code",
   "execution_count": null,
   "metadata": {},
   "outputs": [],
   "source": []
  },
  {
   "cell_type": "markdown",
   "metadata": {},
   "source": [
    "### 2.2 Wikinger, Adwen WK69"
   ]
  },
  {
   "cell_type": "markdown",
   "metadata": {},
   "source": [
    "Sehr interessante Information zum Pitchverhalten der Adwen-135-WEAs in Email von Alexander Meinicke vom 11.11.2020:"
   ]
  },
  {
   "cell_type": "markdown",
   "metadata": {},
   "source": [
    "siehe Mails in M:\\03-Projekte\\Eis-Algorithmus-Eispeakeinstellung\\500_Arbeitsunterlagen\\Transfer_CK\\aerodynUnwucht\\Pitchverhalten_AD135"
   ]
  },
  {
   "cell_type": "code",
   "execution_count": null,
   "metadata": {},
   "outputs": [],
   "source": []
  },
  {
   "cell_type": "code",
   "execution_count": null,
   "metadata": {},
   "outputs": [],
   "source": []
  },
  {
   "cell_type": "markdown",
   "metadata": {},
   "source": [
    "### 2.3 Wikinger, Adwen WK49"
   ]
  },
  {
   "cell_type": "code",
   "execution_count": null,
   "metadata": {},
   "outputs": [],
   "source": [
    "db = 'cmrblba_bc_t_01866'"
   ]
  },
  {
   "cell_type": "markdown",
   "metadata": {},
   "source": [
    "2020-3-9: s. auch Email von DB von heute, mal machen (wenn BLS und HK fertig):\n",
    "        \n",
    "* Code so umbauen, dass einfach Datum und id angegeben werden kann und dann die ZR aus dem Filesystem zusammengesetzt wird\n",
    "* dann fuer die in der mail angegebenen WEAs 3-4 ZR nehmen (wie bei WK49) und Pitchwinkelabstaende berechnen und pruefen, ob die Ergebnisse zu den in der Mail beschriebenen Beobachtungen passen\n"
   ]
  },
  {
   "cell_type": "code",
   "execution_count": null,
   "metadata": {},
   "outputs": [],
   "source": [
    "Idee: Hier noch weiteres herausholen:\n",
    "        \n",
    "* untersuchen, ob sich Omega aendert bzw. richtig berechnet wird auch im verdrehten Zustand\n",
    "* untersuchen, ob Phasenverschiebung gleich ist oder sich aendert, wenn Pitchwinkel verdreht wird"
   ]
  },
  {
   "cell_type": "code",
   "execution_count": null,
   "metadata": {},
   "outputs": [],
   "source": []
  },
  {
   "cell_type": "code",
   "execution_count": null,
   "metadata": {},
   "outputs": [],
   "source": []
  },
  {
   "cell_type": "code",
   "execution_count": null,
   "metadata": {},
   "outputs": [],
   "source": []
  },
  {
   "cell_type": "markdown",
   "metadata": {},
   "source": [
    "## 3 Sensorverkippung"
   ]
  },
  {
   "cell_type": "markdown",
   "metadata": {},
   "source": [
    "Special Query vom 23.12.2020"
   ]
  },
  {
   "cell_type": "markdown",
   "metadata": {},
   "source": [
    "Besprechung mit DB 23.12.2020:\n",
    "\n",
    "* bei WEA cmrblba_bc_t_02747 in Kingspan vmtl. Sensor verkippt\n",
    "* hat jedenfalls von Beginn an hohe Flap-Amplituden beim Drehen\n",
    "* mit meinem Tool zur Berechnung der Pitchwinkel an Messposition mal Winkel zum Schwerefeld für alle 3 RBL berechnen und mit Anlagen gleichen Typs vergleichen, am besten mit EWT Verglecihsanlagen cmrblba_bc_t_01216, cmrblba_ewt_ygh_00596 und cmrblba_bc_t_01015\n",
    "* dafür erstmal ein paar ZRs vom webAna herunterladen und damit machen, vielleicht reicht das schon\n",
    "* Kingspan-Anlagen zeigen keine Leistung, Betreiber wollte aus Datenschutzgründen nur 2 Variablen weitergeben, DB hat sich für Wind und Pitch entschieden\n",
    "  [private Challenge: Leistung berechnen trotz unvollständiger Info]\n",
    "* WEAs habe 56m Rotordurchmesser, dadurch drehen sie so schnell -TODO: pruefen, wo der Sensor sitzt, ist vielleicht hier dann nicht bei 21 machen\n",
    " \n",
    "* wichtige Nebeninformation: im Messprogramm/-system ist Hochpassfilter, dadurch werden die Drehzahl-Amplituden höher, je schneller die WEA dreht (da dann die Dämpfung stärker weggefiltert wird)\n",
    "   \n",
    "    * TODO:\n",
    "\n",
    "        * klaeren, ob der Hochpassfilter vor der ZR-Aufnahme oder erst beim Übergang zum Spektrum angewendet wird\n",
    "\t\t* bei Auswertung der kinematischen Größen ggf. entsprechend berücksichtigen\n",
    "\t\t\t"
   ]
  },
  {
   "cell_type": "markdown",
   "metadata": {},
   "source": [
    "Pfad festlegen:"
   ]
  },
  {
   "cell_type": "code",
   "execution_count": null,
   "metadata": {},
   "outputs": [],
   "source": [
    "path=r\"M:\\03-Projekte\\Eis-Algorithmus-Eispeakeinstellung\\500_Arbeitsunterlagen\\Transfer_CK\\specialQuery\\specialQuery20201223\""
   ]
  },
  {
   "cell_type": "markdown",
   "metadata": {},
   "source": [
    "Bemerkungen:\n",
    "    \n",
    "* Simonswood, EWT4305 (cmrblba_bc_t_01216) hat nur einen Zeitdatensatz bei drehender WEA, und zwar am 9.5.2018, 9:10:02 - evtl. erstmal auf die anderen WEAs konzentrieren\n",
    "* der Vergleichsdatensatz von York Green II Hibaldstow, EWT 223 (cmrblba_ewt_ygh_00596) vom 28.11.2020, 03:50:20 Uhr hat interessante Sensorfehler"
   ]
  },
  {
   "cell_type": "code",
   "execution_count": null,
   "metadata": {
    "scrolled": true
   },
   "outputs": [],
   "source": [
    "Image(filename=path + '\\\\sc_cmrblba_ewt_ygh_00596_sensorfehler.PNG')"
   ]
  },
  {
   "cell_type": "markdown",
   "metadata": {},
   "source": [
    "#### Darstellung und Auswertung der heruntergeladenen .csv-Zeitreihen"
   ]
  },
  {
   "cell_type": "code",
   "execution_count": null,
   "metadata": {},
   "outputs": [],
   "source": [
    "fns = [fn for fn in listdir(path) if fn.endswith(\"_at.csv\")]"
   ]
  },
  {
   "cell_type": "code",
   "execution_count": null,
   "metadata": {},
   "outputs": [],
   "source": [
    "fns"
   ]
  },
  {
   "cell_type": "code",
   "execution_count": null,
   "metadata": {},
   "outputs": [],
   "source": [
    "TODO 2021-1-8: Hier weitermachen, folgendes pruefen! - funktioniert noch nicht\n",
    "\n",
    "\n",
    "wdw_size_prae = 1\n",
    "wdw_size_post = 10001\n",
    "    \n",
    "sample_rate = 1000    \n",
    "cutoff_freq = 1\n",
    "    \n",
    "res = []\n",
    "\n",
    "for fn in fns:\n",
    "    ## read in csv data\n",
    "    df = pd.read_csv(f'{path}\\\\{fn}', sep=',')\n",
    "    \n",
    "    # calculate the pitch angel for each revolution separately\n",
    "    df_res,dict_plots = calc_pitch_df(df, blades = range(1,4),\n",
    "                                      sample_rate = 1000, wdw_size_prae = 101, min_amp = 1000, \n",
    "                                      idx_first = 1, idx_last = -1, single_revolutions=True)\n",
    "\n",
    "    \n",
    "#    pitch = np.arctan(-b0e/b0f)\n",
    "#    pitch_grad0 = pitch * 180/np.pi\n",
    "#    print(f'blade{col} pitch, beta0 = {pitch_grad0}^o')\n",
    "        \n",
    "#    pitch = np.arctan(-b1e/b1f)\n",
    "#    pitch_grad1 = pitch * 180/np.pi\n",
    "#    print(f'blade{col} pitch, beta1 = {pitch_grad1}^o')\n",
    "\n",
    "#    pitch = np.arctan(-b2f/b2e)\n",
    "#    pitch_grad2 = pitch * 180/np.pi\n",
    "#    print(f'blade{col} pitch, beta2 = {pitch_grad2}^o')\n",
    "        \n",
    "    #res.append((fn, f'blade{col+1}', pitch_grad0, pitch_grad1,\n",
    "    #                pitch_grad2))\n",
    "\n",
    "#df_res = pd.DataFrame.from_records(res, columns = ['file', 'blade', \n",
    "#                                                  'pitch_grad0', 'pitch_grad1',\n",
    "#                                                  'pitch_grad2'])"
   ]
  },
  {
   "cell_type": "code",
   "execution_count": null,
   "metadata": {
    "scrolled": true
   },
   "outputs": [],
   "source": [
    "wdw_size_prae = 1\n",
    "wdw_size_post = 10001\n",
    "    \n",
    "sample_rate = 1000    \n",
    "cutoff_freq = 1\n",
    "    \n",
    "res = []\n",
    "\n",
    "for fn in fns:\n",
    "    ## read in csv data\n",
    "    df = pd.read_csv(f'{path}\\\\{fn}', sep=',')\n",
    "    \n",
    "    \n",
    "    \n",
    "    # calculate the pitch angle, reversed in order to have the finally calculated phi_rot as one signle \n",
    "    # lists for first 0 crossing points (in order to drop boundary effects)\n",
    "    lixs = list()\n",
    "    lixe = list()\n",
    "    for col in range(3):\n",
    "        blade = col+1\n",
    "        edge, flap = get_ef(df, blade, wdw_size_prae)\n",
    "            \n",
    "        bOk, dict_res = calc_phi_from_harmonics(edge, wdw_size=1001, min_amp=4000, min_pi_duration=1000, \n",
    "                                                apply_low_pass_filter=False, calc_phi=True, counterclockwise = True, \n",
    "                                                offset = 0)\n",
    "            \n",
    "        omega = 2 * np.pi * dict_res['f_mean']\n",
    "        phi_rot = dict_res['phi']\n",
    "                                 \n",
    "        tmp = dict_res['zero_transitions']\n",
    "            \n",
    "        ixs_tmp = tmp[1]\n",
    "        ixe_tmp = tmp[-2]\n",
    "\n",
    "  \n",
    "        phi_rot_tmp = phi_rot[ixs_tmp:ixe_tmp]\n",
    "        list_to_plot = [(phi_rot_tmp-np.pi*col*2/3, edge[ixs_tmp:ixe_tmp], \n",
    "                        {'color': col_map[f'e{col+1}']}),\n",
    "                        (phi_rot_tmp-np.pi*col*2/3, flap[ixs_tmp:ixe_tmp], \n",
    "                        {'color': col_map[f'f{col+1}']})]\n",
    "\n",
    "        ## regression for edge\n",
    "        #X = sm.add_constant(np.cos(phi_rot_tmp-np.pi/2))\n",
    "        X = sm.add_constant(np.column_stack((np.cos(phi_rot_tmp), \n",
    "                                            np.sin(phi_rot_tmp))))\n",
    "        model = sm.OLS(edge[ixs_tmp:ixe_tmp], X)\n",
    "        reg = model.fit()\n",
    "        #print(results.summary())\n",
    "        b0e, b1e, b2e = reg.params\n",
    "        list_to_plot.append((phi_rot_tmp-np.pi*col*2/3, reg.predict().copy(), \n",
    "                             {'color': 'black'}))\n",
    "        \n",
    "        ## regression for flap\n",
    "        #X = sm.add_constant(np.cos(phi_rot_tmp-np.pi/2))\n",
    "        X = sm.add_constant(np.column_stack((np.cos(phi_rot_tmp), \n",
    "                                           np.sin(phi_rot_tmp))))\n",
    "        model = sm.OLS(flap[ixs_tmp:ixe_tmp], X)\n",
    "        reg = model.fit()\n",
    "        #print(results.summary())\n",
    "        b0f, b1f, b2f = reg.params\n",
    "        list_to_plot.append((phi_rot_tmp-np.pi*col*2/3, reg.predict().copy(), \n",
    "                             {'color': 'black'}))\n",
    "        \n",
    "        ## control plots\n",
    "        myplot_fast2(list_to_plot, \n",
    "                     fn = None,\n",
    "                     s_title=f'edge, flap {fn}, control plot for ' + \\\n",
    "                     'regression a_t ~ cos + sin',\n",
    "                    legend = [f'e{col+1}', f'f{col+1}', 'reg edge', \n",
    "                                'reg flap'], \n",
    "                        projection = 'polar',\n",
    "                        #, theta_zero_location = 'N'\n",
    "                     **kwargs)\n",
    "        \n",
    "        pitch = np.arctan(-b0e/b0f)\n",
    "        pitch_grad0 = pitch * 180/np.pi\n",
    "        print(f'blade{col} pitch, beta0 = {pitch_grad0}^o')\n",
    "        \n",
    "        pitch = np.arctan(-b1e/b1f)\n",
    "        pitch_grad1 = pitch * 180/np.pi\n",
    "        print(f'blade{col} pitch, beta1 = {pitch_grad1}^o')\n",
    "\n",
    "        pitch = np.arctan(-b2f/b2e)\n",
    "        pitch_grad2 = pitch * 180/np.pi\n",
    "        print(f'blade{col} pitch, beta2 = {pitch_grad2}^o')\n",
    "\n",
    "        lixs.append(ixs_tmp)\n",
    "        lixe.append(ixe_tmp)\n",
    "                   \n",
    "        \n",
    "        res.append((fn, f'blade{col+1}', pitch_grad0, pitch_grad1,\n",
    "                    pitch_grad2))\n",
    "\n",
    "df_res = pd.DataFrame.from_records(res, columns = ['file', 'blade', \n",
    "                                                  'pitch_grad0', 'pitch_grad1',\n",
    "                                                  'pitch_grad2'])\n",
    "\n",
    "#df_res.to_csv(f'{path}\\\\result_reg.csv', sep=';', index=False)"
   ]
  },
  {
   "cell_type": "code",
   "execution_count": null,
   "metadata": {},
   "outputs": [],
   "source": []
  },
  {
   "cell_type": "code",
   "execution_count": null,
   "metadata": {},
   "outputs": [],
   "source": []
  },
  {
   "cell_type": "markdown",
   "metadata": {},
   "source": [
    "Generelle Parameter"
   ]
  },
  {
   "cell_type": "code",
   "execution_count": null,
   "metadata": {},
   "outputs": [],
   "source": [
    "blades = range(1,4)\n",
    "blade_ref = 1\n",
    "blades_remain = set(blades)-{blade_ref}\n",
    "    \n",
    "#dict_style0 = {'linestyle': 'None', 'marker': '.', 'markersize': 5}\n",
    "dict_style0 = {'marker': '.', 'markersize': 8}\n",
    "\n",
    "# TODO 2020-3-28: Bedingung 'pitch<50' ersetzen durch\n",
    "# | ||(a1, b1)|| - g | < epsilon, oder so aehnlich\n",
    "#filters_raw = ['r2e >= 0.9', 'r2f >= 0.75', 'f_rot < 0.3']\n",
    "filters_raw = ['r2e >= 0.9', 'r2f >= 0.75', 'f_rot > 0.005']\n",
    "\n",
    "period = (None, dt(2021,1,3))"
   ]
  },
  {
   "cell_type": "markdown",
   "metadata": {},
   "source": [
    "Daten der bereffenden WEA einlesen:"
   ]
  },
  {
   "cell_type": "code",
   "execution_count": null,
   "metadata": {},
   "outputs": [],
   "source": [
    "db = \"cmrblba_bc_t_02747\"\n",
    "kwargs = {'filters': 'omega_mean>=0.05', 'blades': blades, 'radius': 9,\n",
    "          'sample_rate': 1000, 'wdw_size_prae': 101, 'min_amp': 200}"
   ]
  },
  {
   "cell_type": "markdown",
   "metadata": {},
   "source": [
    "Pitchwinkel für jeden Umlauf"
   ]
  },
  {
   "cell_type": "code",
   "execution_count": null,
   "metadata": {},
   "outputs": [],
   "source": [
    "df_raw = get_raw_data(db, path, period, **kwargs)"
   ]
  },
  {
   "cell_type": "markdown",
   "metadata": {},
   "source": [
    "Pitchwinkel und aoa aggregiert für jede Zeitreihe:"
   ]
  },
  {
   "cell_type": "code",
   "execution_count": null,
   "metadata": {},
   "outputs": [],
   "source": [
    "df_pitch = raw2pitch(df_raw, filters_raw).drop(columns=['start_idx', 'end_idx'])  \n",
    "#df_pitch.to_csv(f'{path_work}\\{db}_aoa.csv', sep=';', index=False)"
   ]
  },
  {
   "cell_type": "code",
   "execution_count": null,
   "metadata": {},
   "outputs": [],
   "source": [
    "df_pitch.head(6).dropna(how='all', axis=1)"
   ]
  },
  {
   "cell_type": "code",
   "execution_count": null,
   "metadata": {},
   "outputs": [],
   "source": [
    "df_pitch2 = df_pitch[(df_pitch.r2e>.98) & (df_pitch.r2f>.98)].dropna(subset=['pitch_mean'], how='any', axis=0).dropna(how='any', axis=1)"
   ]
  },
  {
   "cell_type": "code",
   "execution_count": null,
   "metadata": {},
   "outputs": [],
   "source": [
    "df_pitch2.drop(columns=['pitch_sigma', 'temperature_mean', 'r2e', 'r2f', 'pitch_mean'])"
   ]
  },
  {
   "cell_type": "markdown",
   "metadata": {},
   "source": [
    "Exemplarische Darstellung einer Bsp.-ZR"
   ]
  },
  {
   "cell_type": "code",
   "execution_count": null,
   "metadata": {},
   "outputs": [],
   "source": [
    "ts = df_pitch.iloc[10]\n",
    "date = ts['create_time']\n",
    "cycle_id = int(ts['ID'])"
   ]
  },
  {
   "cell_type": "code",
   "execution_count": null,
   "metadata": {},
   "outputs": [],
   "source": [
    "print(db)\n",
    "print(date)\n",
    "print(cycle_id)"
   ]
  },
  {
   "cell_type": "code",
   "execution_count": null,
   "metadata": {},
   "outputs": [],
   "source": [
    "df_res, dict_plots = calc_pitch2(db, date, cycle_id, blades = range(1,4),\n",
    "                                 sample_rate = 1000, wdw_size_prae = 101, \n",
    "                                 min_amp = 1000, idx_first = 1, idx_last = -1,\n",
    "                                 single_revolutions=False)"
   ]
  },
  {
   "cell_type": "code",
   "execution_count": null,
   "metadata": {},
   "outputs": [],
   "source": [
    "legend = list()\n",
    "list_plots = list()\n",
    "\n",
    "kwargs = {'figsize': (8,5), 'iAxisLabelSize': 9, 'iLegendSize': 9, 'iFontSize': 10, 'iFontSizeTitle': 10}\n",
    "\n",
    "for k, list_plot in dict_plots.items():\n",
    "    blade = k[0]\n",
    "    cnt = k[1]\n",
    "    legend_b = [f'e{blade} meas.', f'f{blade} meas.', \n",
    "                'e{blade} pred.', 'f{blade} pred.']\n",
    "        \n",
    "    myplot_fast2(list_plot, fn = None, \n",
    "                 s_title=f'{db}, edge, flap control plot for ' + \\\n",
    "                 'regression a_t ~ cos + sin',\n",
    "                 legend = legend_b, projection = 'polar', **kwargs)\n",
    "            \n",
    "#    list_plots = list_plots + list_plot\n",
    "#    legend = legend + legend_b\n",
    "#    \n",
    "#myplot_fast2(list_plots, fn = None, \n",
    "#             s_title=f'{db}, edge, flap control plot for ' + \\\n",
    "#                     'regression a_t ~ cos + sin',\n",
    "#             legend = legend, projection = 'polar', **kwargs)"
   ]
  },
  {
   "cell_type": "markdown",
   "metadata": {},
   "source": [
    "Darstellung der Winkeldifferenzen"
   ]
  },
  {
   "cell_type": "code",
   "execution_count": null,
   "metadata": {},
   "outputs": [],
   "source": [
    "for blade in blades:\n",
    "    df = df_pitch[df_pitch.blade==blade].loc[:, ['create_time', 'pitch_mean', 'pitch']]\n",
    "    myplot_fast3(df, 'create_time', 'pitch', 'pitch_mean', \n",
    "                #fn = f'{path_work}\\{db}_blade{blade}_pitch_vs_pitch_mean.png',\n",
    "                figsize = fs, \n",
    "                iAxisLabelSize = 9, iLegendSize = 10, iFontSize = 10, iFontSizeTitle = 11,\n",
    "                title = f'{db}, blade {blade}')\n",
    "        #myplot_fast3(df, 'pitch_mean', 'pitch', 'create_time',                             \n",
    "        #            #fn = f'{path_work}\\{db}_blade{blade}_pitch_vs_pitch_mean.png',\n",
    "        #            figsize = fs, title = f'{db}, blade {blade}')\n",
    "\n",
    "df_diff = calc_pitch_diff(df_pitch, blade_ref)        \n",
    "    #df_diff.to_csv(f'{path_work}\\{db}_pitch_differences.csv', sep=';', index=False)        \n",
    "                           \n",
    "    # plot differences with colormap\n",
    "list_plot = list()\n",
    "legend = list()\n",
    "for blade in blades_remain:\n",
    "    col = f'pitch_{blade}-{blade_ref}'\n",
    "    dict_style = dict_style0.copy()\n",
    "    dict_style.update({'color': col_map[f'e{blade}']})\n",
    "    list_plot.append((df_diff.create_time, df_diff.loc[:, col], dict_style))\n",
    "    legend.append(col)\n",
    "                                            \n",
    "    myplot_fast3(df_diff, 'create_time', \n",
    "                f'pitch_{blade}-{blade_ref}', \n",
    "                f'pitch_{blade_ref}', figsize = fs,\n",
    "                #fn = f'{path_work}\\{db}_blade{blade}_diff_vs_pitch_ref.png',\n",
    "                iAxisLabelSize = 9, iLegendSize = 10, iFontSize = 10, iFontSizeTitle = 11,\n",
    "                title = f'{db}, blade {blade}')\n",
    "        #myplot_fast3(df_diff, f'pitch_{blade_ref}',\n",
    "        #            f'pitch_{blade}-{blade_ref}',\n",
    "        #            'create_time', figsize = fs,\n",
    "        #            #fn = f'{path_work}\\{db}_blade{blade}_diff_vs_time.png',\n",
    "        #            title = f'{db}, blade {blade}')\n",
    "        #myplot_fast3(df_diff, 'pitch_mean',\n",
    "        #            f'pitch_{blade}-{blade_ref}',\n",
    "        #            'create_time', figsize = fs,\n",
    "        #            #fn = f'{path_work}\\{db}_blade{blade}_diff_vs_pitch_mean.png',\n",
    "        #            title = f'{db}, blade {blade}')\n",
    "                    \n",
    "myplot_fast2(list_plot, legend = legend, \n",
    "                #fn= f'{path_work}\\{db}_pitch_differences.png', \n",
    "            iAxisLabelSize = 9, iLegendSize = 10, iFontSize = 10, iFontSizeTitle = 11,\n",
    "            s_title = f'Pseudo-Pitchwinkeldifferenzen bei {db}', figsize = fs)"
   ]
  },
  {
   "cell_type": "code",
   "execution_count": null,
   "metadata": {},
   "outputs": [],
   "source": []
  },
  {
   "cell_type": "code",
   "execution_count": null,
   "metadata": {},
   "outputs": [],
   "source": []
  },
  {
   "cell_type": "markdown",
   "metadata": {},
   "source": [
    "Vergleichs-WEA"
   ]
  },
  {
   "cell_type": "code",
   "execution_count": null,
   "metadata": {},
   "outputs": [],
   "source": [
    "db = 'cmrblba_bc_t_01015'"
   ]
  },
  {
   "cell_type": "code",
   "execution_count": null,
   "metadata": {},
   "outputs": [],
   "source": []
  },
  {
   "cell_type": "code",
   "execution_count": null,
   "metadata": {},
   "outputs": [],
   "source": []
  },
  {
   "cell_type": "code",
   "execution_count": null,
   "metadata": {},
   "outputs": [],
   "source": []
  },
  {
   "cell_type": "code",
   "execution_count": null,
   "metadata": {},
   "outputs": [],
   "source": []
  },
  {
   "cell_type": "code",
   "execution_count": null,
   "metadata": {},
   "outputs": [],
   "source": []
  }
 ],
 "metadata": {
  "kernelspec": {
   "display_name": "Python 3",
   "language": "python",
   "name": "python3"
  },
  "language_info": {
   "codemirror_mode": {
    "name": "ipython",
    "version": 3
   },
   "file_extension": ".py",
   "mimetype": "text/x-python",
   "name": "python",
   "nbconvert_exporter": "python",
   "pygments_lexer": "ipython3",
   "version": "3.7.9"
  },
  "widgets": {
   "application/vnd.jupyter.widget-state+json": {
    "state": {},
    "version_major": 2,
    "version_minor": 0
   }
  }
 },
 "nbformat": 4,
 "nbformat_minor": 2
}
